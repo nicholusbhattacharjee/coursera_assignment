{
 "cells": [
  {
   "cell_type": "markdown",
   "id": "9e4c67e1-d6b3-4a04-bb46-61927870241d",
   "metadata": {},
   "source": [
    "# Data Science Tools and Ecosystem"
   ]
  },
  {
   "cell_type": "markdown",
   "id": "3496c673-34e4-421a-b642-b3acdcfeb263",
   "metadata": {},
   "source": [
    "# ***In this notebook, Data Science Tools and Ecosystem are summarized.***"
   ]
  },
  {
   "cell_type": "markdown",
   "id": "f810b368-02c0-4a39-8757-c54b25b298bb",
   "metadata": {},
   "source": [
    "***Objectives:***\n",
    "- List of popular Data Science languages\n",
    "- List of Data Science libraries\n",
    "- Performing simple arithmatic\n",
    "- Converting minutes into hours"
   ]
  },
  {
   "cell_type": "markdown",
   "id": "a28d1e3f-1fb3-4241-a754-a8d0ed86479c",
   "metadata": {},
   "source": [
    "Some of the popular languages that Data Scientists use are:\n",
    "1. Python\n",
    "2. R\n",
    "3. SQL\n",
    "4. Julia "
   ]
  },
  {
   "cell_type": "markdown",
   "id": "2448d630-6ada-426f-a29b-deb136df1d9e",
   "metadata": {},
   "source": [
    "Some of the commonly used libraries used by Data Scientists include:\n",
    "1. NumPy\n",
    "2. Pandas\n",
    "3. Matplotlib\n",
    "4. TensorFlow\n",
    "5. PyTorch"
   ]
  },
  {
   "cell_type": "markdown",
   "id": "a1f0b9aa-222d-49e6-a81b-ecbadc2a8a24",
   "metadata": {},
   "source": [
    "|Data Science Tools | \n",
    "| ------ |\n",
    "| RStudio | \n",
    "|Apache Spark | \n",
    "| TensorFlow | "
   ]
  },
  {
   "cell_type": "markdown",
   "id": "b55fd2ba-561d-41cb-9439-9edfffa15d0b",
   "metadata": {},
   "source": [
    "### Below are a few examples of evaluating arithmetic expressions in Python"
   ]
  },
  {
   "cell_type": "code",
   "execution_count": 1,
   "id": "71d5a420-6040-4785-8739-9e2c747e041e",
   "metadata": {
    "tags": []
   },
   "outputs": [
    {
     "data": {
      "text/plain": [
       "17"
      ]
     },
     "execution_count": 1,
     "metadata": {},
     "output_type": "execute_result"
    }
   ],
   "source": [
    "# This a simple arithmetic expression to mutiply then add integers\n",
    "(3*4)+5"
   ]
  },
  {
   "cell_type": "code",
   "execution_count": 2,
   "id": "89a1205c-a266-471e-b1c9-bea80942ee1c",
   "metadata": {
    "tags": []
   },
   "outputs": [
    {
     "data": {
      "text/plain": [
       "3.3333333333333335"
      ]
     },
     "execution_count": 2,
     "metadata": {},
     "output_type": "execute_result"
    }
   ],
   "source": [
    "# This will convert 200 minutes to hours by diving by 60\n",
    "200/60"
   ]
  },
  {
   "cell_type": "markdown",
   "id": "61978c00-10f6-4003-8da5-b578fd4e79c6",
   "metadata": {},
   "source": [
    "## "
   ]
  }
 ],
 "metadata": {
  "kernelspec": {
   "display_name": "Python",
   "language": "python",
   "name": "conda-env-python-py"
  },
  "language_info": {
   "codemirror_mode": {
    "name": "ipython",
    "version": 3
   },
   "file_extension": ".py",
   "mimetype": "text/x-python",
   "name": "python",
   "nbconvert_exporter": "python",
   "pygments_lexer": "ipython3",
   "version": "3.7.12"
  }
 },
 "nbformat": 4,
 "nbformat_minor": 5
}
